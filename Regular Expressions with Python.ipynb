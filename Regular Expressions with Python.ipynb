{
 "cells": [
  {
   "cell_type": "markdown",
   "metadata": {},
   "source": [
    "I'm always told that regular expressions are hard so let's do it again.\n",
    "\n",
    "To use regular expressions in Python, first we need to import the library."
   ]
  },
  {
   "cell_type": "code",
   "execution_count": 7,
   "metadata": {},
   "outputs": [],
   "source": [
    "import re"
   ]
  },
  {
   "cell_type": "markdown",
   "metadata": {},
   "source": [
    "And then simply use `re.match(<pattern>, <string>)` to search in the string. Also note that for the pattern we use raw strings in the format of `r'examplestring'` to pass in `\\` without problems.\n",
    "\n",
    "the returned `match` object has an atribute `group` if match is found. If match is not found, the match object will simply be none. Group can return more than one matched string but for the basics one is good enough."
   ]
  },
  {
   "cell_type": "code",
   "execution_count": 53,
   "metadata": {},
   "outputs": [
    {
     "name": "stdout",
     "output_type": "stream",
     "text": [
      "returned object with match:  <_sre.SRE_Match object; span=(4, 10), match='hammer'>\n",
      "returned matched string:  hammer\n",
      "empty match object:  None\n"
     ]
    }
   ],
   "source": [
    "str = 'ham hammer hammering'\n",
    "match = re.search(r'\\w\\w\\w\\w\\w\\w', str)\n",
    "print('returned object with match: ', match)\n",
    "print('returned matched string: ', match.group())\n",
    "match2 = re.search(r'abc', str)\n",
    "print('empty match object: ', match2)"
   ]
  },
  {
   "cell_type": "markdown",
   "metadata": {},
   "source": [
    "I'll use this function below to simplify searches and take care of both cases."
   ]
  },
  {
   "cell_type": "code",
   "execution_count": 70,
   "metadata": {},
   "outputs": [
    {
     "name": "stdout",
     "output_type": "stream",
     "text": [
      "match found: hammer\n"
     ]
    }
   ],
   "source": [
    "def re_search(pattern, string):\n",
    "    match = re.search(pattern, string)\n",
    "    if match:\n",
    "        print(\"match found: \" + match.group())\n",
    "    else:\n",
    "        print(\"match not found\")\n",
    "\n",
    "re_search(r'\\w\\w\\w\\w\\w\\w', str)"
   ]
  },
  {
   "cell_type": "code",
   "execution_count": 73,
   "metadata": {},
   "outputs": [
    {
     "name": "stdout",
     "output_type": "stream",
     "text": [
      "match found: hat\n",
      "match found: at\n",
      "match found: at\n"
     ]
    }
   ],
   "source": [
    "str1 = \"at hat mat cat\"\n",
    "re_search(r'[hc]+at', str1)\n",
    "re_search(r'[hc]*at', str1)\n",
    "re_search(r'[hc]?at', str1)"
   ]
  }
 ],
 "metadata": {
  "kernelspec": {
   "display_name": "Python 3",
   "language": "python",
   "name": "python3"
  },
  "language_info": {
   "codemirror_mode": {
    "name": "ipython",
    "version": 3
   },
   "file_extension": ".py",
   "mimetype": "text/x-python",
   "name": "python",
   "nbconvert_exporter": "python",
   "pygments_lexer": "ipython3",
   "version": "3.6.5"
  }
 },
 "nbformat": 4,
 "nbformat_minor": 2
}
