{
 "cells": [
  {
   "cell_type": "code",
   "execution_count": 1,
   "metadata": {},
   "outputs": [],
   "source": [
    "import tweepy, nltk"
   ]
  },
  {
   "cell_type": "code",
   "execution_count": 2,
   "metadata": {},
   "outputs": [],
   "source": [
    "consumer_key = '4DoDlUtQA67bc9LgxGmurzJbr'\n",
    "consumer_secret = 'obg1AQgSTAzzB8FwSn6iaWpth1o2ENKJjvDEd5KSCxIn6rEj3Q'\n",
    "access_token = '4696447867-UauS18qUYHN3KtIt4EOAhe4wjR37eJMUm6lymxf'\n",
    "access_token_secret = 'wpEYCbPeRzRyb6T89mqITeB3sJrDMdbBO1i0BrqS8BTsg'\n",
    "\n",
    "auth = tweepy.OAuthHandler(consumer_key, consumer_secret)\n",
    "auth.set_access_token(access_token, access_token_secret)\n",
    "\n",
    "api = tweepy.API(auth)"
   ]
  },
  {
   "cell_type": "code",
   "execution_count": 8,
   "metadata": {},
   "outputs": [
    {
     "name": "stdout",
     "output_type": "stream",
     "text": [
      "Boston: Your accent is showing\n",
      "RT @jasonpwoodbury: \"...all forms of social justice rely on lifting the weight of disbelief. You must imagine that change is possible, that…\n",
      "Offering no evidence, Trump says Russia will back Democrats in election\n",
      "How Taking a Video Every Day Made Me More Mindful\n",
      "Putin won’t be welcome on Capitol Hill, Mitch McConnell and Paul Ryan say\n",
      "Bill Cosby should be labeled a sexually violent predator, board says\n",
      "The mother of all ab workouts:\n",
      "UN Special Coordinator for the #MiddleEast Peace Process Nickolay Mladenov reiterated his \"call to all in #Gaza to…\n",
      "Food writer Camas Davis wanted to learn about conscientious farming, slaughtering and eating, so she moved to Franc…\n",
      "RT @nytopinion: I may have multiple sclerosis, but that shouldn't stop me from being able to move between states and retain my quality of c…\n",
      "Trump to provide aid to farmers to ease trade pain\n",
      "It's hard to leave someone who knows your deepest, darkest secrets. So, how do you let a therapist go? And isn’t it…\n",
      ".@NestorARamos: There’s two kinds of law in America: One for people with Lamborghinis, and one for everyone else\n",
      "RT @MassStatePolice: #MAtraffic TT-Unit rollover, Storrow Dr WB at Fenway. Fenway exit is closed.\n",
      "Income-restricted housing development in Boston is opened:\n",
      "Food service giant Aramark will phase out plastic straws:\n",
      "Harley-Davidson profits top Wall Street estimates\n",
      "Rob Gronkowski on ‘Shark Week’: ‘I’m part of science! Who would have ever thought?’\n",
      "Israel shoots down Syrian warplane as Golan frontier heats up\n",
      "'The powerful are doing what they want, and the poor are suffering what they must,' said U.S. District Judge Paul C…\n"
     ]
    }
   ],
   "source": [
    "public_tweets = api.home_timeline()\n",
    "for tweet in public_tweets:\n",
    "    print(tweet.text.split('http')[0].strip())"
   ]
  },
  {
   "cell_type": "code",
   "execution_count": 4,
   "metadata": {},
   "outputs": [],
   "source": [
    "text = 'Intermittent fasting — lets settle this once and for all https://t.co/3prnQNGYer'"
   ]
  },
  {
   "cell_type": "code",
   "execution_count": 7,
   "metadata": {},
   "outputs": [
    {
     "data": {
      "text/plain": [
       "'Intermittent fasting — lets settle this once and for all'"
      ]
     },
     "execution_count": 7,
     "metadata": {},
     "output_type": "execute_result"
    }
   ],
   "source": [
    "text.split(\"http\")[0].strip()"
   ]
  },
  {
   "cell_type": "code",
   "execution_count": null,
   "metadata": {},
   "outputs": [],
   "source": []
  }
 ],
 "metadata": {
  "kernelspec": {
   "display_name": "Python 3",
   "language": "python",
   "name": "python3"
  },
  "language_info": {
   "codemirror_mode": {
    "name": "ipython",
    "version": 3
   },
   "file_extension": ".py",
   "mimetype": "text/x-python",
   "name": "python",
   "nbconvert_exporter": "python",
   "pygments_lexer": "ipython3",
   "version": "3.6.5"
  }
 },
 "nbformat": 4,
 "nbformat_minor": 2
}
