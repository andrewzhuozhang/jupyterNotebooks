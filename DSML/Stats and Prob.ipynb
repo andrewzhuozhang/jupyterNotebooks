{
 "cells": [
  {
   "cell_type": "markdown",
   "metadata": {},
   "source": [
    "# Mean vs Median\n",
    "\n",
    "Mean is the average and median is middle point.\n",
    "\n",
    "Mean can be skewed by outliers but median doesn't."
   ]
  },
  {
   "cell_type": "code",
   "execution_count": 1,
   "metadata": {},
   "outputs": [],
   "source": [
    "%matplotlib inline"
   ]
  },
  {
   "cell_type": "markdown",
   "metadata": {},
   "source": [
    "- fake income data with center around 27000 with normal distritution\n",
    "- standard deviation 15000, with 10000 data points"
   ]
  },
  {
   "cell_type": "code",
   "execution_count": 2,
   "metadata": {},
   "outputs": [
    {
     "data": {
      "text/plain": [
       "27019.272754723406"
      ]
     },
     "execution_count": 2,
     "metadata": {},
     "output_type": "execute_result"
    }
   ],
   "source": [
    "import numpy as np\n",
    "\n",
    "incomes = np.random.normal(27000, 15000, 10000)\n",
    "np.mean(incomes)"
   ]
  },
  {
   "cell_type": "markdown",
   "metadata": {},
   "source": [
    "- mean is really close to 27000"
   ]
  },
  {
   "cell_type": "code",
   "execution_count": 3,
   "metadata": {},
   "outputs": [
    {
     "data": {
      "image/png": "[encoded data removed]",
      "text/plain": [
       "<Figure size 432x288 with 1 Axes>"
      ]
     },
     "metadata": {},
     "output_type": "display_data"
    }
   ],
   "source": [
    "import matplotlib.pyplot as plt\n",
    "plt.hist(incomes, 50)\n",
    "plt.show()"
   ]
  },
  {
   "cell_type": "code",
   "execution_count": 4,
   "metadata": {},
   "outputs": [
    {
     "data": {
      "text/plain": [
       "26988.12132180079"
      ]
     },
     "execution_count": 4,
     "metadata": {},
     "output_type": "execute_result"
    }
   ],
   "source": [
    "np.median(incomes)"
   ]
  },
  {
   "cell_type": "code",
   "execution_count": 5,
   "metadata": {},
   "outputs": [
    {
     "data": {
      "image/png": "[encoded data removed]",
      "text/plain": [
       "<Figure size 432x288 with 1 Axes>"
      ]
     },
     "metadata": {},
     "output_type": "display_data"
    }
   ],
   "source": [
    "plt.boxplot(incomes)\n",
    "plt.show()"
   ]
  },
  {
   "cell_type": "markdown",
   "metadata": {},
   "source": [
    "- median is also close to 27000\n",
    "\n",
    "- now add outliers"
   ]
  },
  {
   "cell_type": "code",
   "execution_count": 6,
   "metadata": {},
   "outputs": [],
   "source": [
    "incomes = np.append(incomes, [1000000]) # add one outlier"
   ]
  },
  {
   "cell_type": "code",
   "execution_count": 7,
   "metadata": {},
   "outputs": [
    {
     "data": {
      "text/plain": [
       "26988.759760122313"
      ]
     },
     "execution_count": 7,
     "metadata": {},
     "output_type": "execute_result"
    }
   ],
   "source": [
    "np.median(incomes)"
   ]
  },
  {
   "cell_type": "code",
   "execution_count": 8,
   "metadata": {},
   "outputs": [
    {
     "data": {
      "text/plain": [
       "27116.561098613543"
      ]
     },
     "execution_count": 8,
     "metadata": {},
     "output_type": "execute_result"
    }
   ],
   "source": [
    "np.mean(incomes)"
   ]
  },
  {
   "cell_type": "code",
   "execution_count": 9,
   "metadata": {},
   "outputs": [
    {
     "data": {
      "image/png": "[encoded data removed]",
      "text/plain": [
       "<Figure size 432x288 with 1 Axes>"
      ]
     },
     "metadata": {},
     "output_type": "display_data"
    }
   ],
   "source": [
    "plt.boxplot(incomes)\n",
    "plt.show()"
   ]
  },
  {
   "cell_type": "markdown",
   "metadata": {},
   "source": [
    "- looks like it's super skewed"
   ]
  },
  {
   "cell_type": "markdown",
   "metadata": {},
   "source": [
    "# Mode\n",
    "\n",
    "mode is the most common value"
   ]
  },
  {
   "cell_type": "code",
   "execution_count": 17,
   "metadata": {},
   "outputs": [
    {
     "data": {
      "text/plain": [
       "array([29, 41, 62, 46, 50, 64, 18, 18, 47, 57, 46, 68, 45, 45, 42, 79, 34,\n",
       "       80, 36, 27, 73, 21, 27, 76, 38, 68, 86, 54, 52, 36, 67, 39, 23, 77,\n",
       "       88, 83, 86, 82, 83, 62, 30, 22, 75, 25, 32, 68, 67, 70, 79, 69, 30,\n",
       "       58, 88, 63, 34, 41, 40, 21, 66, 78, 88, 31, 34, 52, 48, 32, 30, 27,\n",
       "       50, 39, 65, 62, 83, 52, 32, 51, 87, 77, 33, 48, 26, 60, 32, 22, 58,\n",
       "       18, 43, 21, 69, 87, 65, 74, 27, 39, 59, 44, 47, 34, 64, 20, 50, 43,\n",
       "       25, 21, 82, 81, 19, 67, 75, 47, 51, 37, 25, 23, 39, 54, 25, 60, 53,\n",
       "       28, 46, 68, 35, 32, 51, 24, 27, 68, 80, 88, 38, 35, 67, 87, 34, 78,\n",
       "       29, 49, 67, 32, 44, 43, 77, 18, 57, 53, 62, 52, 61, 77, 27, 23, 83,\n",
       "       62, 86, 57, 88, 51, 54, 44, 87, 45, 39, 31, 63, 60, 88, 74, 87, 54,\n",
       "       51, 19, 43, 25, 43, 75, 30, 38, 89, 29, 39, 43, 64, 29, 18, 30, 71,\n",
       "       22, 48, 61, 59, 68, 43, 77, 50, 51, 84, 19, 22, 42, 67, 60, 31, 36,\n",
       "       37, 20, 81, 47, 22, 52, 48, 41, 55, 48, 84, 42, 31, 77, 45, 37, 59,\n",
       "       19, 35, 76, 38, 54, 44, 88, 86, 41, 49, 69, 64, 74, 43, 29, 23, 29,\n",
       "       59, 36, 86, 24, 32, 58, 82, 57, 89, 75, 59, 73, 36, 62, 41, 67, 36,\n",
       "       67, 54, 62, 24, 46, 38, 67, 73, 35, 40, 70, 80, 87, 37, 31, 81, 47,\n",
       "       83, 82, 63, 89, 20, 53, 29, 25, 43, 42, 47, 23, 55, 19, 71, 80, 22,\n",
       "       55, 72, 62, 69, 78, 67, 61, 71, 78, 61, 50, 45, 70, 25, 54, 41, 62,\n",
       "       33, 81, 50, 30, 47, 63, 47, 84, 36, 42, 55, 83, 66, 65, 84, 69, 69,\n",
       "       50, 24, 74, 30, 25, 40, 75, 44, 69, 83, 59, 74, 58, 18, 26, 22, 25,\n",
       "       35, 42, 32, 45, 83, 75, 30, 68, 59, 20, 31, 29, 86, 74, 28, 26, 48,\n",
       "       86, 69, 22, 24, 29, 48, 38, 22, 85, 84, 80, 59, 18, 25, 28, 42, 52,\n",
       "       63, 77, 27, 46, 76, 84, 26, 22, 32, 51, 51, 49, 57, 68, 66, 47, 52,\n",
       "       85, 57, 70, 40, 40, 30, 63, 37, 35, 30, 30, 83, 44, 85, 36, 85, 82,\n",
       "       72, 37, 28, 50, 46, 82, 78, 21, 49, 73, 36, 81, 50, 81, 32, 23, 32,\n",
       "       31, 68, 75, 41, 46, 48, 52, 49, 73, 76, 22, 37, 76, 69, 52, 64, 40,\n",
       "       83, 56, 56, 62, 76, 51, 50, 50, 24, 37, 61, 76, 73, 75, 83, 55, 44,\n",
       "       18, 50, 35, 27, 53, 82, 68, 37, 27, 44, 20, 42, 74, 39, 31, 39, 35,\n",
       "       84, 36, 57, 55, 57, 82, 35, 70, 22, 35, 27, 38, 38, 85, 32, 19, 82,\n",
       "       29, 48, 42, 86, 44, 78, 60])"
      ]
     },
     "execution_count": 17,
     "metadata": {},
     "output_type": "execute_result"
    }
   ],
   "source": [
    "ages = np.random.randint(18, high=90, size=500)\n",
    "ages # 500 fake ages"
   ]
  },
  {
   "cell_type": "code",
   "execution_count": 18,
   "metadata": {},
   "outputs": [
    {
     "data": {
      "text/plain": [
       "ModeResult(mode=array([22]), count=array([12]))"
      ]
     },
     "execution_count": 18,
     "metadata": {},
     "output_type": "execute_result"
    }
   ],
   "source": [
    "from scipy import stats # stats module from scipy\n",
    "stats.mode(ages)"
   ]
  },
  {
   "cell_type": "markdown",
   "metadata": {},
   "source": [
    "# Standard Deviation and Variance\n",
    "\n",
    "- variance $\\sigma^2$ is the squared differences from the mean\n",
    "- standard deviation $\\sigma$ is $\\sqrt{\\text{variance}}$\n",
    "- for __population variance__ (using all data points) we divide by $N$\n",
    "- for __sampling variance__ we divide by $N-1$"
   ]
  },
  {
   "cell_type": "code",
   "execution_count": 19,
   "metadata": {},
   "outputs": [
    {
     "data": {
      "image/png": "[encoded data removed]",
      "text/plain": [
       "<Figure size 432x288 with 1 Axes>"
      ]
     },
     "metadata": {},
     "output_type": "display_data"
    }
   ],
   "source": [
    "%matplotlib inline\n",
    "import numpy as np\n",
    "import matplotlib.pyplot as plt\n",
    "\n",
    "incomes = np.random.normal(100.0, 50.0, 10000)\n",
    "\n",
    "plt.hist(incomes, 50)\n",
    "plt.show()"
   ]
  },
  {
   "cell_type": "code",
   "execution_count": 22,
   "metadata": {},
   "outputs": [
    {
     "data": {
      "text/plain": [
       "50.21202801639875"
      ]
     },
     "execution_count": 22,
     "metadata": {},
     "output_type": "execute_result"
    }
   ],
   "source": [
    "incomes.std() # get standard deviation from numpy array"
   ]
  },
  {
   "cell_type": "code",
   "execution_count": 21,
   "metadata": {},
   "outputs": [
    {
     "data": {
      "text/plain": [
       "2521.247757519613"
      ]
     },
     "execution_count": 21,
     "metadata": {},
     "output_type": "execute_result"
    }
   ],
   "source": [
    "incomes.var()"
   ]
  }
 ],
 "metadata": {
  "kernelspec": {
   "display_name": "Python 3",
   "language": "python",
   "name": "python3"
  },
  "language_info": {
   "codemirror_mode": {
    "name": "ipython",
    "version": 3
   },
   "file_extension": ".py",
   "mimetype": "text/x-python",
   "name": "python",
   "nbconvert_exporter": "python",
   "pygments_lexer": "ipython3",
   "version": "3.6.5"
  }
 },
 "nbformat": 4,
 "nbformat_minor": 2
}
