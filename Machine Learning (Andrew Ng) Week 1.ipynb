{
 "cells": [
  {
   "cell_type": "markdown",
   "metadata": {},
   "source": [
    "# Week 1 Introduction"
   ]
  },
  {
   "cell_type": "markdown",
   "metadata": {},
   "source": [
    "Tom Mitchell provides a more modern definition: __\"A computer program is said to learn from experience E with respect to some class of tasks T and performance measure P, if its performance at tasks in T, as measured by P, improves with experience E.\"__\n",
    "\n",
    "> Example: playing checkers.  \n",
    "  E = the experience of playing many games of checkers.  \n",
    "  T = the task of playing checkers.  \n",
    "  P = the probability that the program will win the next game.\n",
    "\n",
    "* In general, any machine learning problem can be assigned to one of two broad classifications:\n",
    "\n",
    "    * Supervised learning and Unsupervised learning."
   ]
  },
  {
   "cell_type": "markdown",
   "metadata": {},
   "source": [
    "### Supervised Learning\n",
    "\n",
    "In supervised learning, we are given a data set and __already know what our correct output should look like__, having the idea that there is a relationship between the input and the output.\n",
    "\n",
    "Supervised learning problems are categorized into __\"regression\" and \"classification\"__ problems. \n",
    "\n",
    "In a __regression__ problem, we are trying to predict results within a continuous output, meaning that we are trying to map input variables to some continuous function. In a __classification__ problem, we are instead trying to __predict results in a discrete output__. In other words, we are trying to map input variables into discrete categories."
   ]
  },
  {
   "cell_type": "markdown",
   "metadata": {},
   "source": [
    "### Unsupervised Learning\n",
    "\n",
    "Unsupervised learning allows us to approach problems __with little or no idea what our results should look like__. We can derive structure from data where we don't necessarily know the effect of the variables.\n",
    "\n",
    "We can derive this structure by __clustering the data based on relationships among the variables in the data__.\n",
    "\n",
    "With unsupervised learning there is __no feedback based on the prediction results__.\n"
   ]
  }
 ],
 "metadata": {
  "kernelspec": {
   "display_name": "Python 3",
   "language": "python",
   "name": "python3"
  },
  "language_info": {
   "codemirror_mode": {
    "name": "ipython",
    "version": 3
   },
   "file_extension": ".py",
   "mimetype": "text/x-python",
   "name": "python",
   "nbconvert_exporter": "python",
   "pygments_lexer": "ipython3",
   "version": "3.6.5"
  }
 },
 "nbformat": 4,
 "nbformat_minor": 2
}
